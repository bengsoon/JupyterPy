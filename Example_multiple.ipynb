{
 "cells": [
  {
   "cell_type": "markdown",
   "metadata": {},
   "source": [
    "# JupyterPy Multiple Targets Example"
   ]
  },
  {
   "cell_type": "markdown",
   "metadata": {},
   "source": [
    "`j2p` can also be used with multiple custom magic functions and `.py` functions. For example, sometimes we would want to export the codes containing the Python Class into one file called `classes.py` and then another several blocks of codes containing Python Functions to another file called `functions.py`.\n",
    "\n",
    "To do so, here are the steps:\n",
    "1. As usual, import JupyterPy package first.\n",
    "\n",
    "``` Python\n",
    "from JupyterPy.core import j2p\n",
    "```\n",
    "\n",
    "2. Assign different magic functions that you'd want to have, in this case `#@EXPORT classes` and `#@EXPORT functions`. Make sure to also tag this code cell with `#@EXCLUDE@` to tell `j2p` to exclude it.\n",
    "\n",
    "``` Python\n",
    "#@EXCLUDE@\n",
    "magic_classes = \"#@EXPORT classes\"\n",
    "magic_functions = \"#@EXPORT functions\"\n",
    "```\n",
    "\n",
    "3. Tag the respective magic functions at the top of the code cells that you'd want to export. This will tell `j2p` which code cells go to which corresponding `.py` when we perform the export operation at the end.\n",
    "\n",
    "``` Python\n",
    "#@EXPORT classes\n",
    "import regex as re\n",
    "\n",
    "# Define a class to check a Palindrome number\n",
    "class Check :\n",
    "\n",
    "    # Constructor\n",
    "    def __init__(self,number) :\n",
    "        self.num = number\n",
    "```\n",
    "\n",
    "``` Python\n",
    "#@EXPORT functions\n",
    "def check_this_palindrome(number):\n",
    "    return Check(number).isPalindrome()\n",
    "```\n",
    "\n",
    "4. Once you are ready to export your code, press `Ctrl+S` or `Cmd+S` to save your notebook.\n",
    "\n",
    "5. Export your `.ipynb` notebook to the corresponding `.py` files:\n",
    "\n",
    "``` Python\n",
    "# enter the filename of this jupyter notebook (don't forget the \".ipynb\" extension!)\n",
    "jupyter_file = r\"./Example_multiple.ipynb\"\n",
    "target_py_classes_file = \"./classes.py\"\n",
    "target_py_functions_file = \"./functions.py\"\n",
    "\n",
    "# export the Class code cells the notebook to classes.py \n",
    "j2p(jupyter_file=jupyter_file, output_file=target_py_classes_file, magic=magic_classes)\n",
    "\n",
    "# export the Function code cells the notebook to functions.py \n",
    "j2p(jupyter_file=jupyter_file, output_file=target_py_functions_file, magic=magic_functions)\n",
    "```"
   ]
  },
  {
   "cell_type": "markdown",
   "metadata": {},
   "source": [
    "## See It In Action"
   ]
  },
  {
   "cell_type": "code",
   "execution_count": 1,
   "metadata": {},
   "outputs": [],
   "source": [
    "from JupyterPy.core import j2p"
   ]
  },
  {
   "cell_type": "markdown",
   "metadata": {},
   "source": [
    "Custom definition for the different magic functions. Make sure to tag this cell with `#@EXCLUDE@` to tell `j2p` to not read it"
   ]
  },
  {
   "cell_type": "code",
   "execution_count": 2,
   "metadata": {},
   "outputs": [],
   "source": [
    "#@EXCLUDE@\n",
    "magic_classes = \"#@EXPORT classes\"\n",
    "magic_functions = \"#@EXPORT functions\""
   ]
  },
  {
   "cell_type": "markdown",
   "metadata": {},
   "source": [
    "### Start of our code development"
   ]
  },
  {
   "cell_type": "markdown",
   "metadata": {},
   "source": [
    "#### Python Class"
   ]
  },
  {
   "cell_type": "code",
   "execution_count": 3,
   "metadata": {},
   "outputs": [],
   "source": [
    "#@EXPORT classes\n",
    "## This will be the first line comment\n",
    "import regex as re\n",
    "\n",
    "## Insert a space under each cell for code readability\n"
   ]
  },
  {
   "cell_type": "code",
   "execution_count": 4,
   "metadata": {
    "scrolled": true
   },
   "outputs": [
    {
     "name": "stdout",
     "output_type": "stream",
     "text": [
      "This line of code will not show up in our JupyterPytest.py file\n"
     ]
    }
   ],
   "source": [
    "print(\"This line of code will not show up in our JupyterPytest.py file\")"
   ]
  },
  {
   "cell_type": "code",
   "execution_count": 5,
   "metadata": {},
   "outputs": [],
   "source": [
    "#@EXPORT classes\n",
    "# Define a class to check a Palindrome number\n",
    "## Reference: https://www.includehelp.com/python/program-to-check-palindrome-number-using-object-oriented-approach.aspx\n",
    "class Check :\n",
    "\n",
    "    # Constructor\n",
    "    def __init__(self,number) :\n",
    "        self.num = number\n",
    "        \n",
    "    # define a method for checking number is Palindrome or not \n",
    "    def isPalindrome(self) :\n",
    "\n",
    "        # copy num attribute to the temp local variable\n",
    "        temp = self.num\n",
    "\n",
    "        # initialise local variable result to zero\n",
    "        result = 0\n",
    "\n",
    "        # run the loop untill temp is not equal to zero\n",
    "        while(temp != 0) :\n",
    "            \n",
    "            rem = temp % 10\n",
    "\n",
    "            result =  result * 10 + rem\n",
    "\n",
    "            # integer division\n",
    "            temp //= 10\n",
    "\n",
    "        # check result equal to the num attribute or not\n",
    "        if self.num == result :\n",
    "            print(self.num,\"is Palindrome\")\n",
    "        else :\n",
    "            print(self.num,\"is not Palindrome\")\n",
    "            "
   ]
  },
  {
   "cell_type": "markdown",
   "metadata": {},
   "source": [
    "#### Python Functions "
   ]
  },
  {
   "cell_type": "code",
   "execution_count": 6,
   "metadata": {},
   "outputs": [],
   "source": [
    "#@EXPORT functions\n",
    "def check_this_palindrome(number):\n",
    "    return Check(number).isPalindrome()\n"
   ]
  },
  {
   "cell_type": "markdown",
   "metadata": {},
   "source": [
    "Let's test our class on this notebook, but _these cells will not be exported_ as we are not tagging them with our magic function (we would not want our tests to be in our `.py` file)"
   ]
  },
  {
   "cell_type": "code",
   "execution_count": 7,
   "metadata": {},
   "outputs": [],
   "source": [
    "# input a palindrome example\n",
    "num_palindrome = 185581"
   ]
  },
  {
   "cell_type": "code",
   "execution_count": 8,
   "metadata": {},
   "outputs": [
    {
     "name": "stdout",
     "output_type": "stream",
     "text": [
      "185581 is Palindrome\n"
     ]
    }
   ],
   "source": [
    "check_this_palindrome(num_palindrome)"
   ]
  },
  {
   "cell_type": "code",
   "execution_count": 9,
   "metadata": {},
   "outputs": [],
   "source": [
    "# input a non-palindrome example\n",
    "num_notpalindrome = 188581"
   ]
  },
  {
   "cell_type": "code",
   "execution_count": 10,
   "metadata": {},
   "outputs": [
    {
     "name": "stdout",
     "output_type": "stream",
     "text": [
      "188581 is not Palindrome\n"
     ]
    }
   ],
   "source": [
    "check_this_palindrome(\n",
    "    num_notpalindrome)"
   ]
  },
  {
   "cell_type": "markdown",
   "metadata": {},
   "source": [
    "### Export to `JupyterPytest.py`\n",
    "\n",
    "Now that we're done with our code, let's finally export it! \n",
    "\n",
    "But before we do so, we have to make sure to **SAVE OUR NOTEBOOK** (press `Ctrl+S`), otherwise we won't get the latest update from our code!\n",
    "\n",
    "Once we have saved the notebook, we then need to specify the filename of this Jupyter Notebook (don't forget the `.ipynb` extension!)"
   ]
  },
  {
   "cell_type": "code",
   "execution_count": 11,
   "metadata": {},
   "outputs": [],
   "source": [
    "# enter the filename of this jupyter notebook (don't forget the \".ipynb\" extension!)\n",
    "jupyter_file = r\"./Example_multiple.ipynb\"\n",
    "target_py_classes_file = \"./classes.py\"\n",
    "target_py_functions_file = \"./functions.py\""
   ]
  },
  {
   "cell_type": "markdown",
   "metadata": {},
   "source": [
    "We will now export the Notebook to `.py` file"
   ]
  },
  {
   "cell_type": "code",
   "execution_count": 12,
   "metadata": {},
   "outputs": [
    {
     "data": {
      "text/plain": [
       "Extracted '#@EXPORT classes' codes from Example_multiple.ipynb into classes.py"
      ]
     },
     "execution_count": 12,
     "metadata": {},
     "output_type": "execute_result"
    }
   ],
   "source": [
    "# export the Class code cells the notebook to classes.py \n",
    "j2p(jupyter_file=jupyter_file, output_file=target_py_classes_file, magic=magic_classes)"
   ]
  },
  {
   "cell_type": "code",
   "execution_count": 13,
   "metadata": {},
   "outputs": [
    {
     "data": {
      "text/plain": [
       "Extracted '#@EXPORT functions' codes from Example_multiple.ipynb into functions.py"
      ]
     },
     "execution_count": 13,
     "metadata": {},
     "output_type": "execute_result"
    }
   ],
   "source": [
    "# export the Function code cells the notebook to functions.py \n",
    "j2p(jupyter_file=jupyter_file, output_file=target_py_functions_file, magic=magic_functions)"
   ]
  },
  {
   "cell_type": "markdown",
   "metadata": {},
   "source": [
    "### Check our outputs"
   ]
  },
  {
   "cell_type": "code",
   "execution_count": 14,
   "metadata": {},
   "outputs": [
    {
     "name": "stdout",
     "output_type": "stream",
     "text": [
      "\n",
      "## This will be the first line comment\n",
      "import regex as re\n",
      "\n",
      "## Insert a space under each cell for code readability\n",
      "\n",
      "# Define a class to check a Palindrome number\n",
      "## Reference: https://www.includehelp.com/python/program-to-check-palindrome-number-using-object-oriented-approach.aspx\n",
      "class Check :\n",
      "\n",
      "    # Constructor\n",
      "    def __init__(self,number) :\n",
      "        self.num = number\n",
      "        \n",
      "    # define a method for checking number is Palindrome or not \n",
      "    def isPalindrome(self) :\n",
      "\n",
      "        # copy num attribute to the temp local variable\n",
      "        temp = self.num\n",
      "\n",
      "        # initialise local variable result to zero\n",
      "        result = 0\n",
      "\n",
      "        # run the loop untill temp is not equal to zero\n",
      "        while(temp != 0) :\n",
      "            \n",
      "            rem = temp % 10\n",
      "\n",
      "            result =  result * 10 + rem\n",
      "\n",
      "            # integer division\n",
      "            temp //= 10\n",
      "\n",
      "        # check result equal to the num attribute or not\n",
      "        if self.num == result :\n",
      "            print(self.num,\"is Palindrome\")\n",
      "        else :\n",
      "            print(self.num,\"is not Palindrome\")\n",
      "            "
     ]
    }
   ],
   "source": [
    "!cat classes.py"
   ]
  },
  {
   "cell_type": "code",
   "execution_count": 15,
   "metadata": {},
   "outputs": [
    {
     "name": "stdout",
     "output_type": "stream",
     "text": [
      "\n",
      "def check_this_palindrome(number):\n",
      "    return Check(number).isPalindrome()\n"
     ]
    }
   ],
   "source": [
    "!cat functions.py"
   ]
  },
  {
   "cell_type": "code",
   "execution_count": null,
   "metadata": {},
   "outputs": [],
   "source": []
  }
 ],
 "metadata": {
  "interpreter": {
   "hash": "02ac0c1084fb93cb8a72f4180f1dcf62e3fe6ed8fa6647fef30635e3f4087bb7"
  },
  "kernelspec": {
   "display_name": "Python 3 (ipykernel)",
   "language": "python",
   "name": "python3"
  },
  "language_info": {
   "codemirror_mode": {
    "name": "ipython",
    "version": 3
   },
   "file_extension": ".py",
   "mimetype": "text/x-python",
   "name": "python",
   "nbconvert_exporter": "python",
   "pygments_lexer": "ipython3",
   "version": "3.8.10"
  }
 },
 "nbformat": 4,
 "nbformat_minor": 2
}
